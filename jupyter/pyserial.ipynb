{
 "cells": [
  {
   "cell_type": "code",
   "execution_count": null,
   "metadata": {},
   "outputs": [],
   "source": [
    "from pathlib import Path\n",
    "\n",
    "import serial\n",
    "import click\n",
    "\n",
    "\n",
    "def send_code(ser: serial.Serial, code_line: str) -> None:\n",
    "    ser.write((code_line.strip() + \"\\r\\n\").encode(encoding=\"ascii\"))\n",
    "    echoed_line = str(object=ser.readline(), encoding=\"ascii\")\n",
    "    click.secho(message=echoed_line, fg=\"yellow\")\n",
    "    while not echoed_line.startswith(\">\"):\n",
    "        echoed_line = str(object=ser.readline(), encoding=\"ascii\")\n",
    "        click.secho(message=echoed_line, fg=\"yellow\")\n",
    "\n",
    "\n",
    "with serial.Serial(\"COM3\") as ser:\n",
    "    print(ser.name)\n",
    "    send_code(ser=ser, code_line=\"new\")\n",
    "    with open(\n",
    "        file=Path(r\"D:\\Dev\\sbc8031\\sample_code\\basic\\string_sample.bas\"),\n",
    "        mode=\"r\",\n",
    "        encoding=\"utf_8_sig\",\n",
    "    ) as basic_file:\n",
    "        for code_line in basic_file:\n",
    "            send_code(ser=ser, code_line=code_line)"
   ]
  },
  {
   "cell_type": "code",
   "execution_count": null,
   "metadata": {},
   "outputs": [],
   "source": [
    "with serial.Serial(\"COM3\") as ser:\n",
    "    print(ser.name)\n",
    "    ser.write(b\"list\\r\\n\")\n",
    "    echoed_line = str(object=ser.readline(), encoding=\"ascii\")\n",
    "    click.secho(message=echoed_line, fg=\"yellow\")\n",
    "    while not echoed_line.startswith(\"list\"):\n",
    "        echoed_line = str(object=ser.readline(), encoding=\"ascii\")\n",
    "        click.secho(message=echoed_line, fg=\"yellow\")\n",
    "\n",
    "    with open(\n",
    "        file=Path(r\"D:\\Dev\\sbc8031\\temp\\x.bas\"), mode=\"w\", encoding=\"utf_8_sig\"\n",
    "    ) as new_file:\n",
    "        echoed_line = str(object=ser.readline(), encoding=\"ascii\")\n",
    "        if len(echoed_line.strip()) > 0:\n",
    "            click.secho(message=echoed_line.strip(), fg=\"yellow\")\n",
    "            new_file.write(echoed_line.strip() + \"\\n\")\n",
    "        while not echoed_line.startswith(\"READY\"):\n",
    "            echoed_line = str(object=ser.readline(), encoding=\"ascii\")\n",
    "            if len(echoed_line.strip()) > 0 and not echoed_line.startswith(\"READY\"):\n",
    "                click.secho(message=echoed_line.strip(), fg=\"yellow\")\n",
    "                new_file.write(echoed_line.strip() + \"\\n\")"
   ]
  }
 ],
 "metadata": {
  "kernelspec": {
   "display_name": ".venv",
   "language": "python",
   "name": "python3"
  },
  "language_info": {
   "codemirror_mode": {
    "name": "ipython",
    "version": 3
   },
   "file_extension": ".py",
   "mimetype": "text/x-python",
   "name": "python",
   "nbconvert_exporter": "python",
   "pygments_lexer": "ipython3",
   "version": "3.11.4"
  },
  "orig_nbformat": 4
 },
 "nbformat": 4,
 "nbformat_minor": 2
}
